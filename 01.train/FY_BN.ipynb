{
  "nbformat": 4,
  "nbformat_minor": 0,
  "metadata": {
    "colab": {
      "provenance": []
    },
    "kernelspec": {
      "name": "python3",
      "display_name": "Python 3"
    },
    "language_info": {
      "name": "python"
    }
  },
  "cells": [
    {
      "cell_type": "code",
      "execution_count": null,
      "metadata": {
        "colab": {
          "base_uri": "https://localhost:8080/"
        },
        "id": "wriFIwyhh8lt",
        "outputId": "a135ef67-75ad-43da-a29e-844424e93686",
        "collapsed": true
      },
      "outputs": [
        {
          "output_type": "stream",
          "name": "stdout",
          "text": [
            "Collecting deepmd-kit\n",
            "  Downloading deepmd_kit-3.0.1-py37-none-manylinux_2_28_x86_64.whl.metadata (23 kB)\n",
            "Requirement already satisfied: numpy>=1.21 in /usr/local/lib/python3.11/dist-packages (from deepmd-kit) (1.26.4)\n",
            "Requirement already satisfied: scipy in /usr/local/lib/python3.11/dist-packages (from deepmd-kit) (1.13.1)\n",
            "Requirement already satisfied: pyyaml in /usr/local/lib/python3.11/dist-packages (from deepmd-kit) (6.0.2)\n",
            "Collecting dargs>=0.4.7 (from deepmd-kit)\n",
            "  Downloading dargs-0.4.10-py3-none-any.whl.metadata (11 kB)\n",
            "Requirement already satisfied: h5py in /usr/local/lib/python3.11/dist-packages (from deepmd-kit) (3.12.1)\n",
            "Collecting wcmatch (from deepmd-kit)\n",
            "  Downloading wcmatch-10.0-py3-none-any.whl.metadata (5.0 kB)\n",
            "Requirement already satisfied: packaging in /usr/local/lib/python3.11/dist-packages (from deepmd-kit) (24.2)\n",
            "Requirement already satisfied: ml_dtypes in /usr/local/lib/python3.11/dist-packages (from deepmd-kit) (0.4.1)\n",
            "Collecting mendeleev (from deepmd-kit)\n",
            "  Downloading mendeleev-0.20.1-py3-none-any.whl.metadata (21 kB)\n",
            "Collecting array-api-compat (from deepmd-kit)\n",
            "  Downloading array_api_compat-1.10.0-py3-none-any.whl.metadata (1.6 kB)\n",
            "Requirement already satisfied: typeguard>=4 in /usr/local/lib/python3.11/dist-packages (from dargs>=0.4.7->deepmd-kit) (4.4.1)\n",
            "Requirement already satisfied: Pygments<3.0.0,>=2.11.2 in /usr/local/lib/python3.11/dist-packages (from mendeleev->deepmd-kit) (2.18.0)\n",
            "Requirement already satisfied: SQLAlchemy>=1.4.0 in /usr/local/lib/python3.11/dist-packages (from mendeleev->deepmd-kit) (2.0.37)\n",
            "Collecting colorama<0.5.0,>=0.4.6 (from mendeleev->deepmd-kit)\n",
            "  Downloading colorama-0.4.6-py2.py3-none-any.whl.metadata (17 kB)\n",
            "Requirement already satisfied: deprecated<2.0.0,>=1.2.14 in /usr/local/lib/python3.11/dist-packages (from mendeleev->deepmd-kit) (1.2.17)\n",
            "Requirement already satisfied: pandas>=1.0.0 in /usr/local/lib/python3.11/dist-packages (from mendeleev->deepmd-kit) (2.2.2)\n",
            "Requirement already satisfied: pydantic<3.0.0,>=2.9.2 in /usr/local/lib/python3.11/dist-packages (from mendeleev->deepmd-kit) (2.10.6)\n",
            "Collecting pyfiglet<0.9,>=0.8.post1 (from mendeleev->deepmd-kit)\n",
            "  Downloading pyfiglet-0.8.post1-py2.py3-none-any.whl.metadata (1.3 kB)\n",
            "Collecting bracex>=2.1.1 (from wcmatch->deepmd-kit)\n",
            "  Downloading bracex-2.5.post1-py3-none-any.whl.metadata (3.5 kB)\n",
            "Requirement already satisfied: wrapt<2,>=1.10 in /usr/local/lib/python3.11/dist-packages (from deprecated<2.0.0,>=1.2.14->mendeleev->deepmd-kit) (1.17.2)\n",
            "Requirement already satisfied: python-dateutil>=2.8.2 in /usr/local/lib/python3.11/dist-packages (from pandas>=1.0.0->mendeleev->deepmd-kit) (2.8.2)\n",
            "Requirement already satisfied: pytz>=2020.1 in /usr/local/lib/python3.11/dist-packages (from pandas>=1.0.0->mendeleev->deepmd-kit) (2024.2)\n",
            "Requirement already satisfied: tzdata>=2022.7 in /usr/local/lib/python3.11/dist-packages (from pandas>=1.0.0->mendeleev->deepmd-kit) (2025.1)\n",
            "Requirement already satisfied: annotated-types>=0.6.0 in /usr/local/lib/python3.11/dist-packages (from pydantic<3.0.0,>=2.9.2->mendeleev->deepmd-kit) (0.7.0)\n",
            "Requirement already satisfied: pydantic-core==2.27.2 in /usr/local/lib/python3.11/dist-packages (from pydantic<3.0.0,>=2.9.2->mendeleev->deepmd-kit) (2.27.2)\n",
            "Requirement already satisfied: typing-extensions>=4.12.2 in /usr/local/lib/python3.11/dist-packages (from pydantic<3.0.0,>=2.9.2->mendeleev->deepmd-kit) (4.12.2)\n",
            "Requirement already satisfied: greenlet!=0.4.17 in /usr/local/lib/python3.11/dist-packages (from SQLAlchemy>=1.4.0->mendeleev->deepmd-kit) (3.1.1)\n",
            "Requirement already satisfied: six>=1.5 in /usr/local/lib/python3.11/dist-packages (from python-dateutil>=2.8.2->pandas>=1.0.0->mendeleev->deepmd-kit) (1.17.0)\n",
            "Downloading deepmd_kit-3.0.1-py37-none-manylinux_2_28_x86_64.whl (17.4 MB)\n",
            "\u001b[2K   \u001b[90m━━━━━━━━━━━━━━━━━━━━━━━━━━━━━━━━━━━━━━━━\u001b[0m \u001b[32m17.4/17.4 MB\u001b[0m \u001b[31m2.2 MB/s\u001b[0m eta \u001b[36m0:00:00\u001b[0m\n",
            "\u001b[?25hDownloading dargs-0.4.10-py3-none-any.whl (27 kB)\n",
            "Downloading array_api_compat-1.10.0-py3-none-any.whl (50 kB)\n",
            "\u001b[2K   \u001b[90m━━━━━━━━━━━━━━━━━━━━━━━━━━━━━━━━━━━━━━━━\u001b[0m \u001b[32m50.4/50.4 kB\u001b[0m \u001b[31m2.9 MB/s\u001b[0m eta \u001b[36m0:00:00\u001b[0m\n",
            "\u001b[?25hDownloading mendeleev-0.20.1-py3-none-any.whl (1.4 MB)\n",
            "\u001b[2K   \u001b[90m━━━━━━━━━━━━━━━━━━━━━━━━━━━━━━━━━━━━━━━━\u001b[0m \u001b[32m1.4/1.4 MB\u001b[0m \u001b[31m47.6 MB/s\u001b[0m eta \u001b[36m0:00:00\u001b[0m\n",
            "\u001b[?25hDownloading wcmatch-10.0-py3-none-any.whl (39 kB)\n",
            "Downloading bracex-2.5.post1-py3-none-any.whl (11 kB)\n",
            "Downloading colorama-0.4.6-py2.py3-none-any.whl (25 kB)\n",
            "Downloading pyfiglet-0.8.post1-py2.py3-none-any.whl (865 kB)\n",
            "\u001b[2K   \u001b[90m━━━━━━━━━━━━━━━━━━━━━━━━━━━━━━━━━━━━━━━━\u001b[0m \u001b[32m865.8/865.8 kB\u001b[0m \u001b[31m41.9 MB/s\u001b[0m eta \u001b[36m0:00:00\u001b[0m\n",
            "\u001b[?25hInstalling collected packages: pyfiglet, colorama, bracex, array-api-compat, wcmatch, dargs, mendeleev, deepmd-kit\n",
            "Successfully installed array-api-compat-1.10.0 bracex-2.5.post1 colorama-0.4.6 dargs-0.4.10 deepmd-kit-3.0.1 mendeleev-0.20.1 pyfiglet-0.8.post1 wcmatch-10.0\n"
          ]
        }
      ],
      "source": [
        "pip install deepmd-kit"
      ]
    },
    {
      "cell_type": "code",
      "source": [
        "pip install lammps\n"
      ],
      "metadata": {
        "id": "Hx8YWHH7iBPj"
      },
      "execution_count": null,
      "outputs": []
    },
    {
      "cell_type": "code",
      "source": [
        "pip install dpdata"
      ],
      "metadata": {
        "id": "JAarZBpoiLW8"
      },
      "execution_count": null,
      "outputs": []
    },
    {
      "cell_type": "code",
      "source": [
        "!lmp  -i bns.in"
      ],
      "metadata": {
        "id": "mE6Ey5O2iQV9"
      },
      "execution_count": null,
      "outputs": []
    },
    {
      "cell_type": "markdown",
      "source": [],
      "metadata": {
        "id": "tpwV2zgwpUL-"
      }
    },
    {
      "cell_type": "code",
      "source": [],
      "metadata": {
        "id": "MIPPX7wljI84"
      },
      "execution_count": null,
      "outputs": []
    },
    {
      "cell_type": "code",
      "source": [],
      "metadata": {
        "id": "8N4jtMQfvD2f",
        "colab": {
          "base_uri": "https://localhost:8080/"
        },
        "outputId": "e297bb65-44cc-4de1-9fcd-4e869867f466"
      },
      "execution_count": null,
      "outputs": [
        {
          "output_type": "stream",
          "name": "stdout",
          "text": [
            "Drive already mounted at /content/drive; to attempt to forcibly remount, call drive.mount(\"/content/drive\", force_remount=True).\n"
          ]
        }
      ]
    },
    {
      "cell_type": "code",
      "source": [],
      "metadata": {
        "id": "qcTP6Ox7RWOx"
      },
      "execution_count": null,
      "outputs": []
    }
  ]
}